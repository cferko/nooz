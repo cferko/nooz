{
 "cells": [
  {
   "cell_type": "code",
   "execution_count": 47,
   "metadata": {
    "collapsed": false
   },
   "outputs": [],
   "source": [
    "\"\"\"\n",
    "Reads from google finance page, parses it, and determines sentiment values of most recent articles.\n",
    "Assumes that each source holds equal weight.\n",
    "TEST STOCKS: ENB, BGG\n",
    "\"\"\"\n",
    "stock = \"bgg\"\n",
    "from bs4 import BeautifulSoup as bs\n",
    "from textblob import TextBlob as tb\n",
    "import urllib2\n",
    "response = urllib2.urlopen('https://www.google.com/finance/company_news?q='+stock+\"&output=rss\")\n",
    "html = response.read()\n",
    "soup=bs(html, \"html.parser\")"
   ]
  },
  {
   "cell_type": "code",
   "execution_count": 49,
   "metadata": {
    "collapsed": false
   },
   "outputs": [
    {
     "data": {
      "text/plain": [
       "[Sentiment(polarity=0.0, subjectivity=0.0),\n",
       " Sentiment(polarity=0.15, subjectivity=0.32222222222222224),\n",
       " Sentiment(polarity=0.125, subjectivity=0.25),\n",
       " Sentiment(polarity=0.0, subjectivity=0.0),\n",
       " Sentiment(polarity=0.0, subjectivity=0.0),\n",
       " Sentiment(polarity=0.13636363636363635, subjectivity=0.45454545454545453),\n",
       " Sentiment(polarity=0.0, subjectivity=0.0),\n",
       " Sentiment(polarity=0.25, subjectivity=0.25),\n",
       " Sentiment(polarity=0.3, subjectivity=0.4777777777777778),\n",
       " Sentiment(polarity=0.0, subjectivity=0.0)]"
      ]
     },
     "execution_count": 49,
     "metadata": {},
     "output_type": "execute_result"
    }
   ],
   "source": [
    "articles = soup.find_all('item')\n",
    "# Might be worth looking into the linked articles and parse them.\n",
    "# Update: LOOK INTO LINKED ARTICLES AND PARSE THEM\n",
    "sentiment_vals=[]\n",
    "for i in range(len(articles)):\n",
    "    art=tb(bs(articles[i].getText(), \"html.parser\").div.div.get_text())\n",
    "    sentiment_vals.append(art.sentiment)\n",
    "sentiment_vals"
   ]
  },
  {
   "cell_type": "code",
   "execution_count": null,
   "metadata": {
    "collapsed": true
   },
   "outputs": [],
   "source": []
  }
 ],
 "metadata": {
  "kernelspec": {
   "display_name": "Python [Root]",
   "language": "python",
   "name": "Python [Root]"
  },
  "language_info": {
   "codemirror_mode": {
    "name": "ipython",
    "version": 2
   },
   "file_extension": ".py",
   "mimetype": "text/x-python",
   "name": "python",
   "nbconvert_exporter": "python",
   "pygments_lexer": "ipython2",
   "version": "2.7.12"
  }
 },
 "nbformat": 4,
 "nbformat_minor": 0
}
