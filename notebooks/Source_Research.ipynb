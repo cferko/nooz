{
 "cells": [
  {
   "cell_type": "code",
   "execution_count": 1,
   "metadata": {
    "collapsed": true
   },
   "outputs": [],
   "source": [
    "\"\"\"\n",
    "This program is meant to find the most popular sources for the rss feed\n",
    "\"\"\"\n",
    "stocks = \"bgg\"\n",
    "from bs4 import BeautifulSoup as bs\n",
    "from textblob import TextBlob as tb\n",
    "import pandas as pd\n",
    "import urllib2\n",
    "#response = urllib2.urlopen('https://www.google.com/finance/company_news?q='+stock+\"&output=rss\")\n",
    "#html = response.read()\n",
    "#soup=bs(html, \"html.parser\")"
   ]
  },
  {
   "cell_type": "code",
   "execution_count": 21,
   "metadata": {
    "collapsed": false
   },
   "outputs": [],
   "source": [
    "# Extracts the list of stock market symbols\n",
    "symbols_raw=pd.read_csv(\"energy/symbols.csv\", header=None, names=[\"Index\", \"Symbol\"])\n",
    "symbols=[]\n",
    "for s in range(len(symbols_raw)):\n",
    "    symbols.append(symbols_raw.iloc[s][\"Symbol\"])"
   ]
  },
  {
   "cell_type": "code",
   "execution_count": null,
   "metadata": {
    "collapsed": true
   },
   "outputs": [],
   "source": []
  }
 ],
 "metadata": {
  "kernelspec": {
   "display_name": "Python [Root]",
   "language": "python",
   "name": "Python [Root]"
  },
  "language_info": {
   "codemirror_mode": {
    "name": "ipython",
    "version": 2
   },
   "file_extension": ".py",
   "mimetype": "text/x-python",
   "name": "python",
   "nbconvert_exporter": "python",
   "pygments_lexer": "ipython2",
   "version": "2.7.12"
  }
 },
 "nbformat": 4,
 "nbformat_minor": 0
}
