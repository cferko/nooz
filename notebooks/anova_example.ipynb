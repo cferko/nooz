{
 "cells": [
  {
   "cell_type": "markdown",
   "metadata": {},
   "source": [
    "This is an example Jupyter notebook that shows how to do an analysis of variance for a psychology experiment.\n",
    "\n",
    "You can run code in any Python cell by clicking inside the cell and hitting Shift+Enter."
   ]
  },
  {
   "cell_type": "code",
   "execution_count": 6,
   "metadata": {
    "collapsed": true
   },
   "outputs": [],
   "source": [
    "## First we input the test data\n",
    "\n",
    "green_scores = [0.4, 0.4, 0.47, 0.53, 0.6, 0.6, 0.6, 0.73, 0.8]\n",
    "red_scores = [0.4, 0.4, 0.53, 0.6, 0.6, 0.6, 0.67, 0.73, 0.80]\n",
    "white_scores = [0.2, 0.27, 0.33, 0.4, 0.4, 0.53, 0.67, 0.73, 0.8]"
   ]
  },
  {
   "cell_type": "code",
   "execution_count": 9,
   "metadata": {
    "collapsed": false
   },
   "outputs": [
    {
     "name": "stdout",
     "output_type": "stream",
     "text": [
      "Green mean 0.57 , green std:  0.12935738608\n",
      "Red mean 0.592222222222 , red std:  0.127434321016\n",
      "White mean 0.481111111111 , green std:  0.20035770481\n"
     ]
    }
   ],
   "source": [
    "## Confirm Nick's calculations for median and std\n",
    "import numpy as np\n",
    "\n",
    "print \"Green mean\", np.mean(green_scores), \", green std: \", np.std(green_scores)\n",
    "print \"Red mean\", np.mean(red_scores), \", red std: \", np.std(red_scores)\n",
    "print \"White mean\", np.mean(white_scores), \", green std: \", np.std(white_scores)"
   ]
  },
  {
   "cell_type": "code",
   "execution_count": 29,
   "metadata": {
    "collapsed": false
   },
   "outputs": [
    {
     "data": {
      "text/plain": [
       "<matplotlib.text.Text at 0x7f7f20e1eed0>"
      ]
     },
     "execution_count": 29,
     "metadata": {},
     "output_type": "execute_result"
    },
    {
     "data": {
      "image/png": "[encoded data removed]",
      "text/plain": [
       "<matplotlib.figure.Figure at 0x7f7f20eb91d0>"
      ]
     },
     "metadata": {},
     "output_type": "display_data"
    }
   ],
   "source": [
    "## These seems to match your numbers\n",
    "\n",
    "## This next part is just importing plot stuff\n",
    "import matplotlib\n",
    "matplotlib.use('Agg')\n",
    "import matplotlib.pyplot as plt\n",
    "%matplotlib inline\n",
    "import seaborn as sns, pandas as pd\n",
    "\n",
    "## Now let's visualize the scores\n",
    "\n",
    "my_frame = pd.DataFrame({'White' : white_scores, 'Green':green_scores, 'Red':red_scores})\n",
    "\n",
    "sns.boxplot(my_frame)\n",
    "plt.title(\"Box Plot for Exam Populations\")\n",
    "plt.ylabel(\"Percentage Score\")\n",
    "plt.xlabel(\"Exam Color\")"
   ]
  },
  {
   "cell_type": "markdown",
   "metadata": {},
   "source": [
    "Hmm, it seems that there's not a lot of variation between the populations since all three of the boxes overlap in score space. Let's compute a p-value to state this quantitatively."
   ]
  },
  {
   "cell_type": "code",
   "execution_count": 30,
   "metadata": {
    "collapsed": false
   },
   "outputs": [
    {
     "name": "stdout",
     "output_type": "stream",
     "text": [
      "P-value:  0.338176111176\n"
     ]
    }
   ],
   "source": [
    "import scipy.stats\n",
    "\n",
    "f_value, p_value = scipy.stats.f_oneway(green_scores, red_scores, white_scores)\n",
    "\n",
    "print \"P-value: \", p_value"
   ]
  },
  {
   "cell_type": "markdown",
   "metadata": {},
   "source": [
    "Since we have a p-value around 0.3, this means that we would see results at least this extreme 30% of the time if the color of the paper had __absolutely no effect__. In other words, we don't have enough data to reject the null hypothesis that exam score is independent of paper color.\n",
    "\n",
    "The correct conclusion is, unfortunately, that your hypothesis is not supported by the data."
   ]
  },
  {
   "cell_type": "code",
   "execution_count": null,
   "metadata": {
    "collapsed": true
   },
   "outputs": [],
   "source": []
  }
 ],
 "metadata": {
  "kernelspec": {
   "display_name": "Python 2",
   "language": "python",
   "name": "python2"
  },
  "language_info": {
   "codemirror_mode": {
    "name": "ipython",
    "version": 2
   },
   "file_extension": ".py",
   "mimetype": "text/x-python",
   "name": "python",
   "nbconvert_exporter": "python",
   "pygments_lexer": "ipython2",
   "version": "2.7.12"
  }
 },
 "nbformat": 4,
 "nbformat_minor": 1
}
